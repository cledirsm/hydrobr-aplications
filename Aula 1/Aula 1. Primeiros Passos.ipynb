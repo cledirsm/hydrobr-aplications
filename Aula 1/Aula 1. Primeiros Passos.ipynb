{
 "cells": [
  {
   "cell_type": "markdown",
   "metadata": {},
   "source": [
    "# Primeiros passos com o HydroBR\n",
    "- Obtenção do inventário de estações\n",
    "- Download de dados\n",
    "- Visualização de disponibilidade temporal"
   ]
  },
  {
   "cell_type": "code",
   "execution_count": 2,
   "metadata": {},
   "outputs": [],
   "source": [
    "#Importando as bibliotecas\n",
    "import geopandas as gpd\n",
    "from shapely.geometry import Point\n",
    "import hydrobr"
   ]
  },
  {
   "cell_type": "code",
   "execution_count": 4,
   "metadata": {},
   "outputs": [
    {
     "data": {
      "text/plain": [
       "<matplotlib.axes._subplots.AxesSubplot at 0x232113f06d8>"
      ]
     },
     "execution_count": 4,
     "metadata": {},
     "output_type": "execute_result"
    },
    {
     "data": {
      "image/png": "[encoded data removed]",
      "text/plain": [
       "<Figure size 432x288 with 1 Axes>"
      ]
     },
     "metadata": {
      "needs_background": "light"
     },
     "output_type": "display_data"
    }
   ],
   "source": [
    "#Abrindo o shapefile da área de interesse\n",
    "area = gpd.read_file(r'shapefiles/bacia_doce.shp')\n",
    "area.plot()"
   ]
  },
  {
   "cell_type": "markdown",
   "metadata": {},
   "source": [
    "HydroBr tem duas funções para obter a lista de estações da ANA:\n",
    "- hydrobr.get_data.ANA.list_prec_stations - Para obter a lista de estações de precipitação\n",
    "- hydrobr.get_data.ANA.list_flow_stations - Para obter a lista de estações de vazão/nível\n",
    "\n",
    "As colunas incluem:\n",
    "- Data da primeira medição (FirstDate)\n",
    "- Data da última medição (EndDate)\n",
    "- Número de anos com dados (NYD)\n",
    "- Porcentagem de falhas entre a primeira e última medição (MD)\n",
    "- Número de anos sem nenhuma falha (N_YWOMD)\n",
    "- Porcentagem de anos com falhas"
   ]
  },
  {
   "cell_type": "code",
   "execution_count": 5,
   "metadata": {},
   "outputs": [
    {
     "name": "stdout",
     "output_type": "stream",
     "text": [
      "<class 'pandas.core.frame.DataFrame'>\n",
      "RangeIndex: 3771 entries, 0 to 3770\n",
      "Data columns (total 16 columns):\n",
      " #   Column        Non-Null Count  Dtype  \n",
      "---  ------        --------------  -----  \n",
      " 0   Name          3771 non-null   object \n",
      " 1   Code          3771 non-null   object \n",
      " 2   Type          3771 non-null   int64  \n",
      " 3   DrainageArea  3707 non-null   float64\n",
      " 4   SubBasin      3771 non-null   int64  \n",
      " 5   City          3770 non-null   object \n",
      " 6   State         3771 non-null   object \n",
      " 7   Responsible   3771 non-null   object \n",
      " 8   Latitude      3771 non-null   float64\n",
      " 9   Longitude     3771 non-null   float64\n",
      " 10  StartDate     3771 non-null   object \n",
      " 11  EndDate       3771 non-null   object \n",
      " 12  NYD           3771 non-null   int64  \n",
      " 13  MD            3771 non-null   float64\n",
      " 14  N_YWOMD       3771 non-null   int64  \n",
      " 15  YWMD          3771 non-null   float64\n",
      "dtypes: float64(5), int64(4), object(7)\n",
      "memory usage: 471.5+ KB\n"
     ]
    }
   ],
   "source": [
    "# Obtendo a lista de estações de vazão/nível da ANA\n",
    "lista_flu = hydrobr.get_data.ANA.list_flow_stations()\n",
    "lista_flu.info()"
   ]
  },
  {
   "cell_type": "markdown",
   "metadata": {},
   "source": [
    "O próximo passo é criar um GeoDataFrame com a lista de estações"
   ]
  },
  {
   "cell_type": "code",
   "execution_count": 6,
   "metadata": {},
   "outputs": [],
   "source": [
    "pontos = [Point(x) for x in zip(lista_flu.Longitude,lista_flu.Latitude)] # Criando uma lista de geometrias no formato de ponto\n",
    "crs={'proj':'latlong','ellps':'WGS84','datum':'WGS84','no_def':True} # Definindo o sistema de coordenadas\n",
    "lista_flu_geo = gpd.GeoDataFrame(lista_flu, geometry=pontos,crs=crs) # Criando o geodataframe"
   ]
  },
  {
   "cell_type": "markdown",
   "metadata": {},
   "source": [
    "Filtrando as estações que estão nas bacias"
   ]
  },
  {
   "cell_type": "code",
   "execution_count": 7,
   "metadata": {},
   "outputs": [
    {
     "name": "stdout",
     "output_type": "stream",
     "text": [
      "<class 'geopandas.geodataframe.GeoDataFrame'>\n",
      "Int64Index: 152 entries, 1521 to 1686\n",
      "Data columns (total 17 columns):\n",
      " #   Column        Non-Null Count  Dtype   \n",
      "---  ------        --------------  -----   \n",
      " 0   Name          152 non-null    object  \n",
      " 1   Code          152 non-null    object  \n",
      " 2   Type          152 non-null    int64   \n",
      " 3   DrainageArea  151 non-null    float64 \n",
      " 4   SubBasin      152 non-null    int64   \n",
      " 5   City          152 non-null    object  \n",
      " 6   State         152 non-null    object  \n",
      " 7   Responsible   152 non-null    object  \n",
      " 8   Latitude      152 non-null    float64 \n",
      " 9   Longitude     152 non-null    float64 \n",
      " 10  StartDate     152 non-null    object  \n",
      " 11  EndDate       152 non-null    object  \n",
      " 12  NYD           152 non-null    int64   \n",
      " 13  MD            152 non-null    float64 \n",
      " 14  N_YWOMD       152 non-null    int64   \n",
      " 15  YWMD          152 non-null    float64 \n",
      " 16  geometry      152 non-null    geometry\n",
      "dtypes: float64(5), geometry(1), int64(4), object(7)\n",
      "memory usage: 21.4+ KB\n"
     ]
    }
   ],
   "source": [
    "indices = lista_flu_geo.geometry.within(area.geometry[0]) # Selecionando os indices das estações que estão dentro da bacia\n",
    "lista_selecionada = lista_flu_geo[indices] # Filtrando as estações\n",
    "lista_selecionada.info()"
   ]
  },
  {
   "cell_type": "markdown",
   "metadata": {},
   "source": [
    "Plotando as estações e a área de interesse"
   ]
  },
  {
   "cell_type": "code",
   "execution_count": 8,
   "metadata": {},
   "outputs": [
    {
     "data": {
      "text/plain": [
       "<matplotlib.axes._subplots.AxesSubplot at 0x232125bb208>"
      ]
     },
     "execution_count": 8,
     "metadata": {},
     "output_type": "execute_result"
    },
    {
     "data": {
      "image/png": "[encoded data removed]",
      "text/plain": [
       "<Figure size 432x288 with 1 Axes>"
      ]
     },
     "metadata": {
      "needs_background": "light"
     },
     "output_type": "display_data"
    }
   ],
   "source": [
    "base = area.plot(color='white', edgecolor='black')\n",
    "lista_selecionada.plot(ax=base,marker='o',color='red')"
   ]
  },
  {
   "cell_type": "markdown",
   "metadata": {},
   "source": [
    "Baixando as 15 primeiras estações"
   ]
  },
  {
   "cell_type": "code",
   "execution_count": null,
   "metadata": {},
   "outputs": [
    {
     "name": "stderr",
     "output_type": "stream",
     "text": [
      " 80%|███████████████████████████████████████████████████████████████████████████████████████████████████████████████████████████████████████████████████████████▏                                      | 12/15 [03:34<01:24, 28.23s/it]"
     ]
    }
   ],
   "source": [
    "codigos = lista_selecionada.Code.to_list()[:15] # Selecionando os códigos das estações\n",
    "dados_flu = hydrobr.get_data.ANA.flow_data(codigos) # Baixando as estações\n",
    "dados_flu.info()"
   ]
  },
  {
   "cell_type": "markdown",
   "metadata": {},
   "source": [
    "Plotando a disponibilidade temporal dos dados"
   ]
  },
  {
   "cell_type": "code",
   "execution_count": null,
   "metadata": {},
   "outputs": [],
   "source": [
    "from plotly.offline import plot\n",
    "gantt_fig = hydrobr.Plot.gantt(dados_flu)\n",
    "#Atualizando o layout da figura\n",
    "gantt_fig.update_layout(\n",
    "    autosize=False,\n",
    "    width=1800,\n",
    "    height=1500,\n",
    "    xaxis_title = 'Ano',\n",
    "    yaxis_title = 'Código da Estação',\n",
    "    font=dict(family=\"Courier New, monospace\", size=12))\n",
    "\n",
    "#Plotando\n",
    "plot(gantt_fig,filename='Gantt - Flu' + '.html')"
   ]
  }
 ],
 "metadata": {
  "kernelspec": {
   "display_name": "Python 3",
   "language": "python",
   "name": "python3"
  },
  "language_info": {
   "codemirror_mode": {
    "name": "ipython",
    "version": 3
   },
   "file_extension": ".py",
   "mimetype": "text/x-python",
   "name": "python",
   "nbconvert_exporter": "python",
   "pygments_lexer": "ipython3",
   "version": "3.7.3"
  }
 },
 "nbformat": 4,
 "nbformat_minor": 2
}
